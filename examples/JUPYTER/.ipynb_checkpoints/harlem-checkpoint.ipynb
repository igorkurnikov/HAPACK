{
 "cells": [
  {
   "cell_type": "markdown",
   "id": "27792cac",
   "metadata": {},
   "source": [
    "# Jupyter Notebook to run HARLEM"
   ]
  },
  {
   "cell_type": "code",
   "execution_count": 1,
   "id": "9739a034",
   "metadata": {},
   "outputs": [],
   "source": [
    "%gui wx\n",
    "import os\n",
    "import wx\n",
    "import molset\n",
    "cur_dir = os.getcwd()\n",
    "app = wx.App()\n",
    "molset.StartHarlemApp()\n",
    "molset.StartHaMainFrameWX()\n",
    "os.chdir(cur_dir)"
   ]
  },
  {
   "cell_type": "code",
   "execution_count": null,
   "id": "bc4d77be",
   "metadata": {},
   "outputs": [],
   "source": [
    "pApp = molset.GetCurApp()\n",
    "#dir(pApp)\n",
    "print(pApp.res_db_dir)"
   ]
  },
  {
   "cell_type": "code",
   "execution_count": 4,
   "id": "8b83235d",
   "metadata": {},
   "outputs": [
    {
     "data": {
      "text/plain": [
       "0"
      ]
     },
     "execution_count": 4,
     "metadata": {},
     "output_type": "execute_result"
    }
   ],
   "source": [
    "mset = molset.GetCurMolSet()\n",
    "mset.GetNAtoms()"
   ]
  },
  {
   "cell_type": "code",
   "execution_count": null,
   "id": "98277345",
   "metadata": {},
   "outputs": [],
   "source": [
    "dir(molset)"
   ]
  },
  {
   "cell_type": "code",
   "execution_count": null,
   "id": "8acb04ea",
   "metadata": {},
   "outputs": [],
   "source": [
    "for aptr in mset:\n",
    "    print(aptr.GetName())"
   ]
  },
  {
   "cell_type": "code",
   "execution_count": 3,
   "id": "1df6d387",
   "metadata": {},
   "outputs": [
    {
     "data": {
      "text/plain": [
       "'C:\\\\Users\\\\igor\\\\AppData\\\\Roaming\\\\jupyter\\\\runtime'"
      ]
     },
     "execution_count": 3,
     "metadata": {},
     "output_type": "execute_result"
    }
   ],
   "source": [
    "import os\n",
    "os.getcwd()"
   ]
  },
  {
   "cell_type": "code",
   "execution_count": 7,
   "id": "2de7f5da",
   "metadata": {},
   "outputs": [],
   "source": [
    "os.chdir(\"c:\\\\harlem\")"
   ]
  },
  {
   "cell_type": "code",
   "execution_count": null,
   "id": "766a805b",
   "metadata": {},
   "outputs": [],
   "source": []
  }
 ],
 "metadata": {
  "celltoolbar": "Raw Cell Format",
  "kernelspec": {
   "display_name": "Python 3",
   "language": "python",
   "name": "python3"
  },
  "language_info": {
   "codemirror_mode": {
    "name": "ipython",
    "version": 3
   },
   "file_extension": ".py",
   "mimetype": "text/x-python",
   "name": "python",
   "nbconvert_exporter": "python",
   "pygments_lexer": "ipython3",
   "version": "3.8.8"
  }
 },
 "nbformat": 4,
 "nbformat_minor": 5
}
