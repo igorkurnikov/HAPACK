{
 "cells": [
  {
   "cell_type": "code",
   "execution_count": null,
   "id": "9739a034",
   "metadata": {},
   "outputs": [],
   "source": [
    "%gui wx\n",
    "import wx\n",
    "import molset\n",
    "app = wx.App()\n",
    "molset.StartHarlemApp()\n",
    "molset.StartHaMainFrameWX()"
   ]
  },
  {
   "cell_type": "code",
   "execution_count": null,
   "id": "bc4d77be",
   "metadata": {},
   "outputs": [],
   "source": [
    "pApp = molset.GetCurApp()\n",
    "#dir(pApp)\n",
    "print(pApp.res_db_dir)"
   ]
  },
  {
   "cell_type": "code",
   "execution_count": null,
   "id": "8b83235d",
   "metadata": {},
   "outputs": [],
   "source": [
    "mset = molset.GetCurMolSet()\n",
    "mset.GetNAtoms()"
   ]
  },
  {
   "cell_type": "code",
   "execution_count": null,
   "id": "98277345",
   "metadata": {},
   "outputs": [],
   "source": [
    "dir(molset)"
   ]
  },
  {
   "cell_type": "code",
   "execution_count": null,
   "id": "8acb04ea",
   "metadata": {},
   "outputs": [],
   "source": [
    "for aptr in mset:\n",
    "    print(aptr.GetName())"
   ]
  },
  {
   "cell_type": "code",
   "execution_count": null,
   "id": "03e1b7d5",
   "metadata": {},
   "outputs": [],
   "source": [
    "print(1+1)"
   ]
  },
  {
   "cell_type": "code",
   "execution_count": null,
   "id": "1df6d387",
   "metadata": {},
   "outputs": [],
   "source": []
  }
 ],
 "metadata": {
  "kernelspec": {
   "display_name": "Python 3",
   "language": "python",
   "name": "python3"
  },
  "language_info": {
   "codemirror_mode": {
    "name": "ipython",
    "version": 3
   },
   "file_extension": ".py",
   "mimetype": "text/x-python",
   "name": "python",
   "nbconvert_exporter": "python",
   "pygments_lexer": "ipython3",
   "version": "3.8.8"
  }
 },
 "nbformat": 4,
 "nbformat_minor": 5
}
